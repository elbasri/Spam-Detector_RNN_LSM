{
 "cells": [
  {
   "cell_type": "code",
   "execution_count": 1,
   "id": "c9dad838",
   "metadata": {
    "_cell_guid": "b1076dfc-b9ad-4769-8c92-a6c4dae69d19",
    "_uuid": "8f2839f25d086af736a60e9eeb907d3b93b6e0e5",
    "execution": {
     "iopub.execute_input": "2024-11-23T16:59:01.776327Z",
     "iopub.status.busy": "2024-11-23T16:59:01.776043Z",
     "iopub.status.idle": "2024-11-23T16:59:02.449856Z",
     "shell.execute_reply": "2024-11-23T16:59:02.448973Z"
    },
    "papermill": {
     "duration": 0.682598,
     "end_time": "2024-11-23T16:59:02.451692",
     "exception": false,
     "start_time": "2024-11-23T16:59:01.769094",
     "status": "completed"
    },
    "tags": []
   },
   "outputs": [
    {
     "name": "stdout",
     "output_type": "stream",
     "text": [
      "/kaggle/input/sms-spam-collection-dataset/spam.csv\n"
     ]
    }
   ],
   "source": [
    "# This Python 3 environment comes with many helpful analytics libraries installed\n",
    "# It is defined by the kaggle/python Docker image: https://github.com/kaggle/docker-python\n",
    "# For example, here's several helpful packages to load\n",
    "\n",
    "import numpy as np # linear algebra\n",
    "import pandas as pd # data processing, CSV file I/O (e.g. pd.read_csv)\n",
    "\n",
    "# Input data files are available in the read-only \"../input/\" directory\n",
    "# For example, running this (by clicking run or pressing Shift+Enter) will list all files under the input directory\n",
    "\n",
    "import os\n",
    "for dirname, _, filenames in os.walk('/kaggle/input'):\n",
    "    for filename in filenames:\n",
    "        print(os.path.join(dirname, filename))\n",
    "\n",
    "# You can write up to 20GB to the current directory (/kaggle/working/) that gets preserved as output when you create a version using \"Save & Run All\" \n",
    "# You can also write temporary files to /kaggle/temp/, but they won't be saved outside of the current session"
   ]
  },
  {
   "cell_type": "code",
   "execution_count": 2,
   "id": "73df9c49",
   "metadata": {
    "execution": {
     "iopub.execute_input": "2024-11-23T16:59:02.467218Z",
     "iopub.status.busy": "2024-11-23T16:59:02.466581Z",
     "iopub.status.idle": "2024-11-23T16:59:10.870853Z",
     "shell.execute_reply": "2024-11-23T16:59:10.869981Z"
    },
    "papermill": {
     "duration": 8.413586,
     "end_time": "2024-11-23T16:59:10.873421",
     "exception": false,
     "start_time": "2024-11-23T16:59:02.459835",
     "status": "completed"
    },
    "tags": []
   },
   "outputs": [
    {
     "name": "stdout",
     "output_type": "stream",
     "text": [
      "Name: keras\r\n",
      "Version: 3.3.3\r\n",
      "Summary: Multi-backend Keras.\r\n",
      "Home-page: https://github.com/keras-team/keras\r\n",
      "Author: Keras team\r\n",
      "Author-email: keras-users@googlegroups.com\r\n",
      "License: Apache License 2.0\r\n",
      "Location: /opt/conda/lib/python3.10/site-packages\r\n",
      "Requires: absl-py, h5py, ml-dtypes, namex, numpy, optree, rich\r\n",
      "Required-by: keras-tuner, tensorflow\r\n"
     ]
    }
   ],
   "source": [
    "!pip show keras"
   ]
  },
  {
   "cell_type": "code",
   "execution_count": 3,
   "id": "9f4bdbcb",
   "metadata": {
    "execution": {
     "iopub.execute_input": "2024-11-23T16:59:10.886685Z",
     "iopub.status.busy": "2024-11-23T16:59:10.886414Z",
     "iopub.status.idle": "2024-11-23T16:59:22.960342Z",
     "shell.execute_reply": "2024-11-23T16:59:22.959606Z"
    },
    "papermill": {
     "duration": 12.083171,
     "end_time": "2024-11-23T16:59:22.962985",
     "exception": false,
     "start_time": "2024-11-23T16:59:10.879814",
     "status": "completed"
    },
    "tags": []
   },
   "outputs": [],
   "source": [
    "import pandas as pd\n",
    "import numpy as np\n",
    "import matplotlib.pyplot as plt\n",
    "import seaborn as sns\n",
    "from sklearn.model_selection import train_test_split\n",
    "from sklearn.preprocessing import LabelEncoder\n",
    "from sklearn.feature_extraction.text import TfidfVectorizer\n",
    "from sklearn.metrics import roc_curve, auc, precision_recall_curve\n",
    "from keras.models import Model, Sequential\n",
    "from keras.layers import LSTM, GRU, Activation, Dense, Dropout, Input, Embedding, Reshape\n",
    "from keras.optimizers import RMSprop, Adam\n",
    "from keras.callbacks import EarlyStopping\n",
    "from sklearn.metrics import classification_report, confusion_matrix"
   ]
  },
  {
   "cell_type": "code",
   "execution_count": 4,
   "id": "7178f388",
   "metadata": {
    "execution": {
     "iopub.execute_input": "2024-11-23T16:59:22.976546Z",
     "iopub.status.busy": "2024-11-23T16:59:22.975605Z",
     "iopub.status.idle": "2024-11-23T16:59:22.980570Z",
     "shell.execute_reply": "2024-11-23T16:59:22.979902Z"
    },
    "papermill": {
     "duration": 0.01317,
     "end_time": "2024-11-23T16:59:22.982172",
     "exception": false,
     "start_time": "2024-11-23T16:59:22.969002",
     "status": "completed"
    },
    "tags": []
   },
   "outputs": [],
   "source": [
    "%matplotlib inline"
   ]
  },
  {
   "cell_type": "code",
   "execution_count": 5,
   "id": "c3f910db",
   "metadata": {
    "execution": {
     "iopub.execute_input": "2024-11-23T16:59:22.994628Z",
     "iopub.status.busy": "2024-11-23T16:59:22.994397Z",
     "iopub.status.idle": "2024-11-23T16:59:23.032599Z",
     "shell.execute_reply": "2024-11-23T16:59:23.031757Z"
    },
    "papermill": {
     "duration": 0.046346,
     "end_time": "2024-11-23T16:59:23.034441",
     "exception": false,
     "start_time": "2024-11-23T16:59:22.988095",
     "status": "completed"
    },
    "tags": []
   },
   "outputs": [
    {
     "data": {
      "text/html": [
       "<div>\n",
       "<style scoped>\n",
       "    .dataframe tbody tr th:only-of-type {\n",
       "        vertical-align: middle;\n",
       "    }\n",
       "\n",
       "    .dataframe tbody tr th {\n",
       "        vertical-align: top;\n",
       "    }\n",
       "\n",
       "    .dataframe thead th {\n",
       "        text-align: right;\n",
       "    }\n",
       "</style>\n",
       "<table border=\"1\" class=\"dataframe\">\n",
       "  <thead>\n",
       "    <tr style=\"text-align: right;\">\n",
       "      <th></th>\n",
       "      <th>v1</th>\n",
       "      <th>v2</th>\n",
       "      <th>Unnamed: 2</th>\n",
       "      <th>Unnamed: 3</th>\n",
       "      <th>Unnamed: 4</th>\n",
       "    </tr>\n",
       "  </thead>\n",
       "  <tbody>\n",
       "    <tr>\n",
       "      <th>0</th>\n",
       "      <td>ham</td>\n",
       "      <td>Go until jurong point, crazy.. Available only ...</td>\n",
       "      <td>NaN</td>\n",
       "      <td>NaN</td>\n",
       "      <td>NaN</td>\n",
       "    </tr>\n",
       "    <tr>\n",
       "      <th>1</th>\n",
       "      <td>ham</td>\n",
       "      <td>Ok lar... Joking wif u oni...</td>\n",
       "      <td>NaN</td>\n",
       "      <td>NaN</td>\n",
       "      <td>NaN</td>\n",
       "    </tr>\n",
       "    <tr>\n",
       "      <th>2</th>\n",
       "      <td>spam</td>\n",
       "      <td>Free entry in 2 a wkly comp to win FA Cup fina...</td>\n",
       "      <td>NaN</td>\n",
       "      <td>NaN</td>\n",
       "      <td>NaN</td>\n",
       "    </tr>\n",
       "    <tr>\n",
       "      <th>3</th>\n",
       "      <td>ham</td>\n",
       "      <td>U dun say so early hor... U c already then say...</td>\n",
       "      <td>NaN</td>\n",
       "      <td>NaN</td>\n",
       "      <td>NaN</td>\n",
       "    </tr>\n",
       "    <tr>\n",
       "      <th>4</th>\n",
       "      <td>ham</td>\n",
       "      <td>Nah I don't think he goes to usf, he lives aro...</td>\n",
       "      <td>NaN</td>\n",
       "      <td>NaN</td>\n",
       "      <td>NaN</td>\n",
       "    </tr>\n",
       "  </tbody>\n",
       "</table>\n",
       "</div>"
      ],
      "text/plain": [
       "     v1                                                 v2 Unnamed: 2  \\\n",
       "0   ham  Go until jurong point, crazy.. Available only ...        NaN   \n",
       "1   ham                      Ok lar... Joking wif u oni...        NaN   \n",
       "2  spam  Free entry in 2 a wkly comp to win FA Cup fina...        NaN   \n",
       "3   ham  U dun say so early hor... U c already then say...        NaN   \n",
       "4   ham  Nah I don't think he goes to usf, he lives aro...        NaN   \n",
       "\n",
       "  Unnamed: 3 Unnamed: 4  \n",
       "0        NaN        NaN  \n",
       "1        NaN        NaN  \n",
       "2        NaN        NaN  \n",
       "3        NaN        NaN  \n",
       "4        NaN        NaN  "
      ]
     },
     "execution_count": 5,
     "metadata": {},
     "output_type": "execute_result"
    }
   ],
   "source": [
    "# Load the data\n",
    "# تحميل البيانات\n",
    "data = pd.read_csv('/kaggle/input/sms-spam-collection-dataset/spam.csv', delimiter=',', encoding='latin-1')\n",
    "data.head()"
   ]
  },
  {
   "cell_type": "code",
   "execution_count": 6,
   "id": "05b74f29",
   "metadata": {
    "execution": {
     "iopub.execute_input": "2024-11-23T16:59:23.047885Z",
     "iopub.status.busy": "2024-11-23T16:59:23.047641Z",
     "iopub.status.idle": "2024-11-23T16:59:23.056032Z",
     "shell.execute_reply": "2024-11-23T16:59:23.055308Z"
    },
    "papermill": {
     "duration": 0.017027,
     "end_time": "2024-11-23T16:59:23.057861",
     "exception": false,
     "start_time": "2024-11-23T16:59:23.040834",
     "status": "completed"
    },
    "tags": []
   },
   "outputs": [
    {
     "name": "stdout",
     "output_type": "stream",
     "text": [
      "Dropped columns: ['Unnamed: 2', 'Unnamed: 3', 'Unnamed: 4']\n"
     ]
    }
   ],
   "source": [
    "# Check if the columns 'Unnamed: 2', 'Unnamed: 3', 'Unnamed: 4' exist before dropping them\n",
    "# التحقق من وجود الأعمدة 'Unnamed: 2', 'Unnamed: 3', 'Unnamed: 4' قبل حذفها\n",
    "\n",
    "columns_to_drop = ['Unnamed: 2', 'Unnamed: 3', 'Unnamed: 4']\n",
    "\n",
    "# Check if these columns are in the DataFrame\n",
    "# التحقق إذا كانت هذه الأعمدة موجودة في الـ DataFrame\n",
    "existing_columns = [col for col in columns_to_drop if col in data.columns]\n",
    "\n",
    "# Drop only the existing columns\n",
    "# حذف الأعمدة الموجودة فقط\n",
    "if existing_columns:\n",
    "    data.drop(existing_columns, axis=1, inplace=True)\n",
    "    print(f\"Dropped columns: {existing_columns}\")\n",
    "else:\n",
    "    print(\"No columns to drop.\")"
   ]
  },
  {
   "cell_type": "code",
   "execution_count": 7,
   "id": "64aba190",
   "metadata": {
    "execution": {
     "iopub.execute_input": "2024-11-23T16:59:23.070702Z",
     "iopub.status.busy": "2024-11-23T16:59:23.070258Z",
     "iopub.status.idle": "2024-11-23T16:59:23.088914Z",
     "shell.execute_reply": "2024-11-23T16:59:23.088093Z"
    },
    "papermill": {
     "duration": 0.027194,
     "end_time": "2024-11-23T16:59:23.090826",
     "exception": false,
     "start_time": "2024-11-23T16:59:23.063632",
     "status": "completed"
    },
    "tags": []
   },
   "outputs": [
    {
     "name": "stdout",
     "output_type": "stream",
     "text": [
      "<class 'pandas.core.frame.DataFrame'>\n",
      "RangeIndex: 5572 entries, 0 to 5571\n",
      "Data columns (total 2 columns):\n",
      " #   Column  Non-Null Count  Dtype \n",
      "---  ------  --------------  ----- \n",
      " 0   v1      5572 non-null   object\n",
      " 1   v2      5572 non-null   object\n",
      "dtypes: object(2)\n",
      "memory usage: 87.2+ KB\n"
     ]
    }
   ],
   "source": [
    "# Display information about the DataFrame\n",
    "# عرض معلومات عن الـ DataFrame\n",
    "data.info()"
   ]
  },
  {
   "cell_type": "code",
   "execution_count": 8,
   "id": "d2b5dee5",
   "metadata": {
    "execution": {
     "iopub.execute_input": "2024-11-23T16:59:23.103236Z",
     "iopub.status.busy": "2024-11-23T16:59:23.102980Z",
     "iopub.status.idle": "2024-11-23T16:59:23.110371Z",
     "shell.execute_reply": "2024-11-23T16:59:23.109558Z"
    },
    "papermill": {
     "duration": 0.015442,
     "end_time": "2024-11-23T16:59:23.112061",
     "exception": false,
     "start_time": "2024-11-23T16:59:23.096619",
     "status": "completed"
    },
    "tags": []
   },
   "outputs": [
    {
     "data": {
      "text/html": [
       "<div>\n",
       "<style scoped>\n",
       "    .dataframe tbody tr th:only-of-type {\n",
       "        vertical-align: middle;\n",
       "    }\n",
       "\n",
       "    .dataframe tbody tr th {\n",
       "        vertical-align: top;\n",
       "    }\n",
       "\n",
       "    .dataframe thead th {\n",
       "        text-align: right;\n",
       "    }\n",
       "</style>\n",
       "<table border=\"1\" class=\"dataframe\">\n",
       "  <thead>\n",
       "    <tr style=\"text-align: right;\">\n",
       "      <th></th>\n",
       "      <th>v1</th>\n",
       "      <th>v2</th>\n",
       "    </tr>\n",
       "  </thead>\n",
       "  <tbody>\n",
       "    <tr>\n",
       "      <th>0</th>\n",
       "      <td>ham</td>\n",
       "      <td>Go until jurong point, crazy.. Available only ...</td>\n",
       "    </tr>\n",
       "    <tr>\n",
       "      <th>1</th>\n",
       "      <td>ham</td>\n",
       "      <td>Ok lar... Joking wif u oni...</td>\n",
       "    </tr>\n",
       "    <tr>\n",
       "      <th>2</th>\n",
       "      <td>spam</td>\n",
       "      <td>Free entry in 2 a wkly comp to win FA Cup fina...</td>\n",
       "    </tr>\n",
       "    <tr>\n",
       "      <th>3</th>\n",
       "      <td>ham</td>\n",
       "      <td>U dun say so early hor... U c already then say...</td>\n",
       "    </tr>\n",
       "    <tr>\n",
       "      <th>4</th>\n",
       "      <td>ham</td>\n",
       "      <td>Nah I don't think he goes to usf, he lives aro...</td>\n",
       "    </tr>\n",
       "  </tbody>\n",
       "</table>\n",
       "</div>"
      ],
      "text/plain": [
       "     v1                                                 v2\n",
       "0   ham  Go until jurong point, crazy.. Available only ...\n",
       "1   ham                      Ok lar... Joking wif u oni...\n",
       "2  spam  Free entry in 2 a wkly comp to win FA Cup fina...\n",
       "3   ham  U dun say so early hor... U c already then say...\n",
       "4   ham  Nah I don't think he goes to usf, he lives aro..."
      ]
     },
     "execution_count": 8,
     "metadata": {},
     "output_type": "execute_result"
    }
   ],
   "source": [
    "data.head()"
   ]
  },
  {
   "cell_type": "code",
   "execution_count": 9,
   "id": "779902f2",
   "metadata": {
    "execution": {
     "iopub.execute_input": "2024-11-23T16:59:23.125840Z",
     "iopub.status.busy": "2024-11-23T16:59:23.125584Z",
     "iopub.status.idle": "2024-11-23T16:59:23.129193Z",
     "shell.execute_reply": "2024-11-23T16:59:23.128428Z"
    },
    "papermill": {
     "duration": 0.012341,
     "end_time": "2024-11-23T16:59:23.130806",
     "exception": false,
     "start_time": "2024-11-23T16:59:23.118465",
     "status": "completed"
    },
    "tags": []
   },
   "outputs": [],
   "source": [
    "# Select the 'v2' column as features (X) and 'v1' column as labels (Y)\n",
    "# اختيار عمود 'v2' كميزات (X) وعمود 'v1' كتصنيفات (Y)\n",
    "X = data.v2  # 'v2' contains the message texts\n",
    "Y = data.v1  # 'v1' contains the labels (spam or ham)"
   ]
  },
  {
   "cell_type": "code",
   "execution_count": 10,
   "id": "66a43649",
   "metadata": {
    "execution": {
     "iopub.execute_input": "2024-11-23T16:59:23.144260Z",
     "iopub.status.busy": "2024-11-23T16:59:23.143606Z",
     "iopub.status.idle": "2024-11-23T16:59:23.147095Z",
     "shell.execute_reply": "2024-11-23T16:59:23.146333Z"
    },
    "papermill": {
     "duration": 0.012051,
     "end_time": "2024-11-23T16:59:23.148690",
     "exception": false,
     "start_time": "2024-11-23T16:59:23.136639",
     "status": "completed"
    },
    "tags": []
   },
   "outputs": [],
   "source": [
    "# Initialize a label encoder\n",
    "# تهيئة مُرمز التصنيفات\n",
    "le = LabelEncoder()"
   ]
  },
  {
   "cell_type": "code",
   "execution_count": 11,
   "id": "58e18709",
   "metadata": {
    "execution": {
     "iopub.execute_input": "2024-11-23T16:59:23.161110Z",
     "iopub.status.busy": "2024-11-23T16:59:23.160870Z",
     "iopub.status.idle": "2024-11-23T16:59:23.165586Z",
     "shell.execute_reply": "2024-11-23T16:59:23.164803Z"
    },
    "papermill": {
     "duration": 0.012667,
     "end_time": "2024-11-23T16:59:23.167148",
     "exception": false,
     "start_time": "2024-11-23T16:59:23.154481",
     "status": "completed"
    },
    "tags": []
   },
   "outputs": [],
   "source": [
    "# Apply the encoder to transform 'spam'/'ham' labels into numeric values (0 and 1)\n",
    "# تطبيق المُرمز لتحويل تصنيفات 'spam'/'ham' إلى قيم رقمية (0 و 1)\n",
    "Y = le.fit_transform(Y)  # 'spam' will be transformed to 1, 'ham' to 0"
   ]
  },
  {
   "cell_type": "code",
   "execution_count": 12,
   "id": "2c4d187e",
   "metadata": {
    "execution": {
     "iopub.execute_input": "2024-11-23T16:59:23.179724Z",
     "iopub.status.busy": "2024-11-23T16:59:23.179483Z",
     "iopub.status.idle": "2024-11-23T16:59:23.183033Z",
     "shell.execute_reply": "2024-11-23T16:59:23.182322Z"
    },
    "papermill": {
     "duration": 0.011682,
     "end_time": "2024-11-23T16:59:23.184518",
     "exception": false,
     "start_time": "2024-11-23T16:59:23.172836",
     "status": "completed"
    },
    "tags": []
   },
   "outputs": [],
   "source": [
    "# Reshape Y to be a column matrix (required for training)\n",
    "# تغيير شكل Y ليصبح مصفوفة عمودية (مطلوب للتدريب)\n",
    "Y = Y.reshape(-1, 1)  # Transform Y from shape (n,) to (n, 1), where n is the number of samples"
   ]
  },
  {
   "cell_type": "code",
   "execution_count": 13,
   "id": "aeb52583",
   "metadata": {
    "execution": {
     "iopub.execute_input": "2024-11-23T16:59:23.197624Z",
     "iopub.status.busy": "2024-11-23T16:59:23.197013Z",
     "iopub.status.idle": "2024-11-23T16:59:23.204591Z",
     "shell.execute_reply": "2024-11-23T16:59:23.203956Z"
    },
    "papermill": {
     "duration": 0.015899,
     "end_time": "2024-11-23T16:59:23.206278",
     "exception": false,
     "start_time": "2024-11-23T16:59:23.190379",
     "status": "completed"
    },
    "tags": []
   },
   "outputs": [],
   "source": [
    "# Split the data into training and testing sets\n",
    "# تقسيم البيانات إلى مجموعة تدريب واختبار\n",
    "X_train, X_test, Y_train, Y_test = train_test_split(X, Y, test_size=0.15)"
   ]
  },
  {
   "cell_type": "code",
   "execution_count": 14,
   "id": "9770fb13",
   "metadata": {
    "execution": {
     "iopub.execute_input": "2024-11-23T16:59:23.220190Z",
     "iopub.status.busy": "2024-11-23T16:59:23.219935Z",
     "iopub.status.idle": "2024-11-23T16:59:23.223621Z",
     "shell.execute_reply": "2024-11-23T16:59:23.222831Z"
    },
    "papermill": {
     "duration": 0.012215,
     "end_time": "2024-11-23T16:59:23.225178",
     "exception": false,
     "start_time": "2024-11-23T16:59:23.212963",
     "status": "completed"
    },
    "tags": []
   },
   "outputs": [],
   "source": [
    "# Text preprocessing: Remove stop words, lowercase, and tokenize the text\n",
    "# معالجة النصوص: إزالة الكلمات الشائعة، تحويل النص إلى أحرف صغيرة، وتجزئة النص\n",
    "tfidf = TfidfVectorizer(stop_words='english', max_features=2500)  # TF-IDF vectorizer to capture important words"
   ]
  },
  {
   "cell_type": "code",
   "execution_count": 15,
   "id": "7a0c79f7",
   "metadata": {
    "execution": {
     "iopub.execute_input": "2024-11-23T16:59:23.237803Z",
     "iopub.status.busy": "2024-11-23T16:59:23.237549Z",
     "iopub.status.idle": "2024-11-23T16:59:23.329708Z",
     "shell.execute_reply": "2024-11-23T16:59:23.328887Z"
    },
    "papermill": {
     "duration": 0.100436,
     "end_time": "2024-11-23T16:59:23.331405",
     "exception": false,
     "start_time": "2024-11-23T16:59:23.230969",
     "status": "completed"
    },
    "tags": []
   },
   "outputs": [],
   "source": [
    "X_train_tfidf = tfidf.fit_transform(X_train)\n",
    "X_test_tfidf = tfidf.transform(X_test)"
   ]
  },
  {
   "cell_type": "code",
   "execution_count": 16,
   "id": "cad559e5",
   "metadata": {
    "execution": {
     "iopub.execute_input": "2024-11-23T16:59:23.343958Z",
     "iopub.status.busy": "2024-11-23T16:59:23.343699Z",
     "iopub.status.idle": "2024-11-23T16:59:23.447826Z",
     "shell.execute_reply": "2024-11-23T16:59:23.446877Z"
    },
    "papermill": {
     "duration": 0.112685,
     "end_time": "2024-11-23T16:59:23.449825",
     "exception": false,
     "start_time": "2024-11-23T16:59:23.337140",
     "status": "completed"
    },
    "tags": []
   },
   "outputs": [],
   "source": [
    "# Convert the sparse matrix to a dense matrix (required for input into neural networks)\n",
    "# تحويل المصفوفة النادرة إلى مصفوفة كثيفة (مطلوبة كمدخلات للشبكات العصبية)\n",
    "X_train_tfidf = X_train_tfidf.toarray()\n",
    "X_test_tfidf = X_test_tfidf.toarray()"
   ]
  },
  {
   "cell_type": "code",
   "execution_count": 17,
   "id": "d6219a95",
   "metadata": {
    "execution": {
     "iopub.execute_input": "2024-11-23T16:59:23.462989Z",
     "iopub.status.busy": "2024-11-23T16:59:23.462706Z",
     "iopub.status.idle": "2024-11-23T16:59:23.466675Z",
     "shell.execute_reply": "2024-11-23T16:59:23.465907Z"
    },
    "papermill": {
     "duration": 0.012323,
     "end_time": "2024-11-23T16:59:23.468376",
     "exception": false,
     "start_time": "2024-11-23T16:59:23.456053",
     "status": "completed"
    },
    "tags": []
   },
   "outputs": [],
   "source": [
    "# Reshape Y to be a column matrix (required for training)\n",
    "# تغيير شكل Y ليصبح مصفوفة عمودية (مطلوب للتدريب)\n",
    "Y_train = Y_train.reshape(-1, 1)\n",
    "Y_test = Y_test.reshape(-1, 1)"
   ]
  },
  {
   "cell_type": "code",
   "execution_count": 18,
   "id": "49f73819",
   "metadata": {
    "execution": {
     "iopub.execute_input": "2024-11-23T16:59:23.481430Z",
     "iopub.status.busy": "2024-11-23T16:59:23.481168Z",
     "iopub.status.idle": "2024-11-23T16:59:23.484891Z",
     "shell.execute_reply": "2024-11-23T16:59:23.484074Z"
    },
    "papermill": {
     "duration": 0.012189,
     "end_time": "2024-11-23T16:59:23.486510",
     "exception": false,
     "start_time": "2024-11-23T16:59:23.474321",
     "status": "completed"
    },
    "tags": []
   },
   "outputs": [],
   "source": [
    "# Define the maximum number of words and the maximum sequence length\n",
    "# تحديد العدد الأقصى للكلمات وطول التسلسل الأقصى\n",
    "max_words = 2500   # You can change this based on your dataset\n",
    "max_len = 150      # Length of each sequence"
   ]
  },
  {
   "cell_type": "code",
   "execution_count": 19,
   "id": "da151db1",
   "metadata": {
    "execution": {
     "iopub.execute_input": "2024-11-23T16:59:23.500257Z",
     "iopub.status.busy": "2024-11-23T16:59:23.499986Z",
     "iopub.status.idle": "2024-11-23T16:59:23.505485Z",
     "shell.execute_reply": "2024-11-23T16:59:23.504753Z"
    },
    "papermill": {
     "duration": 0.014701,
     "end_time": "2024-11-23T16:59:23.507769",
     "exception": false,
     "start_time": "2024-11-23T16:59:23.493068",
     "status": "completed"
    },
    "tags": []
   },
   "outputs": [],
   "source": [
    "def RNN():\n",
    "    # Initialize a sequential model\n",
    "    # تهيئة نموذج تسلسلي\n",
    "    model = Sequential()\n",
    "\n",
    "    # Add the input layer as the first layer\n",
    "    # إضافة طبقة الإدخال كأول طبقة\n",
    "    model.add(Embedding(max_words, 50, input_length=max_len))  # Input shape is implicitly set\n",
    "\n",
    "    # Apply a GRU layer (you can keep GRU or change to LSTM if needed)\n",
    "    # تطبيق طبقة GRU (يمكنك الإبقاء على GRU أو تغييرها إلى LSTM إذا لزم الأمر)\n",
    "    model.add(GRU(64, return_sequences=True))  # return_sequences=True ensures that output is 3D\n",
    "\n",
    "    # Now, we can safely apply the LSTM layer since the output of GRU is 3D\n",
    "    # الآن يمكننا تطبيق طبقة LSTM بأمان لأن مخرج GRU هو 3D\n",
    "    model.add(LSTM(64))  # Add LSTM layer to capture more complex sequences\n",
    "\n",
    "    # Apply a fully connected dense layer with 256 neurons\n",
    "    # تطبيق طبقة كثيفة متصلة بالكامل مع 256 خلية عصبية\n",
    "    model.add(Dense(256, name='FC1'))\n",
    "\n",
    "    # Apply ReLU activation\n",
    "    # تطبيق تفعيل ReLU\n",
    "    model.add(Activation('relu'))\n",
    "\n",
    "    # Apply dropout to reduce overfitting\n",
    "    # تطبيق Dropout لتقليل الإفراط في التكيف\n",
    "    model.add(Dropout(0.5))\n",
    "\n",
    "    # Apply the output layer (binary classification: spam or ham)\n",
    "    # تطبيق طبقة الإخراج (تصنيف ثنائي: سبام أو هام)\n",
    "    model.add(Dense(1, name='out_layer'))\n",
    "\n",
    "    return model"
   ]
  },
  {
   "cell_type": "code",
   "execution_count": 20,
   "id": "915d6a02",
   "metadata": {
    "execution": {
     "iopub.execute_input": "2024-11-23T16:59:23.521259Z",
     "iopub.status.busy": "2024-11-23T16:59:23.520983Z",
     "iopub.status.idle": "2024-11-23T16:59:24.259443Z",
     "shell.execute_reply": "2024-11-23T16:59:24.258751Z"
    },
    "papermill": {
     "duration": 0.747225,
     "end_time": "2024-11-23T16:59:24.261445",
     "exception": false,
     "start_time": "2024-11-23T16:59:23.514220",
     "status": "completed"
    },
    "tags": []
   },
   "outputs": [
    {
     "name": "stderr",
     "output_type": "stream",
     "text": [
      "/opt/conda/lib/python3.10/site-packages/keras/src/layers/core/embedding.py:90: UserWarning: Argument `input_length` is deprecated. Just remove it.\n",
      "  warnings.warn(\n"
     ]
    }
   ],
   "source": [
    "# Create the model\n",
    "# إنشاء النموذج\n",
    "model = RNN()"
   ]
  },
  {
   "cell_type": "code",
   "execution_count": 21,
   "id": "3ecac72a",
   "metadata": {
    "execution": {
     "iopub.execute_input": "2024-11-23T16:59:24.275263Z",
     "iopub.status.busy": "2024-11-23T16:59:24.274966Z",
     "iopub.status.idle": "2024-11-23T16:59:24.292418Z",
     "shell.execute_reply": "2024-11-23T16:59:24.291843Z"
    },
    "papermill": {
     "duration": 0.026148,
     "end_time": "2024-11-23T16:59:24.294004",
     "exception": false,
     "start_time": "2024-11-23T16:59:24.267856",
     "status": "completed"
    },
    "tags": []
   },
   "outputs": [],
   "source": [
    "# Compile the model\n",
    "# تجميع النموذج\n",
    "model.compile(loss='binary_crossentropy', optimizer=Adam(), metrics=['accuracy'])"
   ]
  },
  {
   "cell_type": "code",
   "execution_count": 22,
   "id": "c82ecbcc",
   "metadata": {
    "execution": {
     "iopub.execute_input": "2024-11-23T16:59:24.306643Z",
     "iopub.status.busy": "2024-11-23T16:59:24.306406Z",
     "iopub.status.idle": "2024-11-23T16:59:24.322540Z",
     "shell.execute_reply": "2024-11-23T16:59:24.321739Z"
    },
    "papermill": {
     "duration": 0.024124,
     "end_time": "2024-11-23T16:59:24.324078",
     "exception": false,
     "start_time": "2024-11-23T16:59:24.299954",
     "status": "completed"
    },
    "tags": []
   },
   "outputs": [
    {
     "data": {
      "text/html": [
       "<pre style=\"white-space:pre;overflow-x:auto;line-height:normal;font-family:Menlo,'DejaVu Sans Mono',consolas,'Courier New',monospace\"><span style=\"font-weight: bold\">Model: \"sequential\"</span>\n",
       "</pre>\n"
      ],
      "text/plain": [
       "\u001b[1mModel: \"sequential\"\u001b[0m\n"
      ]
     },
     "metadata": {},
     "output_type": "display_data"
    },
    {
     "data": {
      "text/html": [
       "<pre style=\"white-space:pre;overflow-x:auto;line-height:normal;font-family:Menlo,'DejaVu Sans Mono',consolas,'Courier New',monospace\">┏━━━━━━━━━━━━━━━━━━━━━━━━━━━━━━━━━┳━━━━━━━━━━━━━━━━━━━━━━━━┳━━━━━━━━━━━━━━━┓\n",
       "┃<span style=\"font-weight: bold\"> Layer (type)                    </span>┃<span style=\"font-weight: bold\"> Output Shape           </span>┃<span style=\"font-weight: bold\">       Param # </span>┃\n",
       "┡━━━━━━━━━━━━━━━━━━━━━━━━━━━━━━━━━╇━━━━━━━━━━━━━━━━━━━━━━━━╇━━━━━━━━━━━━━━━┩\n",
       "│ embedding (<span style=\"color: #0087ff; text-decoration-color: #0087ff\">Embedding</span>)           │ ?                      │   <span style=\"color: #00af00; text-decoration-color: #00af00\">0</span> (unbuilt) │\n",
       "├─────────────────────────────────┼────────────────────────┼───────────────┤\n",
       "│ gru (<span style=\"color: #0087ff; text-decoration-color: #0087ff\">GRU</span>)                       │ ?                      │   <span style=\"color: #00af00; text-decoration-color: #00af00\">0</span> (unbuilt) │\n",
       "├─────────────────────────────────┼────────────────────────┼───────────────┤\n",
       "│ lstm (<span style=\"color: #0087ff; text-decoration-color: #0087ff\">LSTM</span>)                     │ ?                      │   <span style=\"color: #00af00; text-decoration-color: #00af00\">0</span> (unbuilt) │\n",
       "├─────────────────────────────────┼────────────────────────┼───────────────┤\n",
       "│ FC1 (<span style=\"color: #0087ff; text-decoration-color: #0087ff\">Dense</span>)                     │ ?                      │   <span style=\"color: #00af00; text-decoration-color: #00af00\">0</span> (unbuilt) │\n",
       "├─────────────────────────────────┼────────────────────────┼───────────────┤\n",
       "│ activation (<span style=\"color: #0087ff; text-decoration-color: #0087ff\">Activation</span>)         │ ?                      │   <span style=\"color: #00af00; text-decoration-color: #00af00\">0</span> (unbuilt) │\n",
       "├─────────────────────────────────┼────────────────────────┼───────────────┤\n",
       "│ dropout (<span style=\"color: #0087ff; text-decoration-color: #0087ff\">Dropout</span>)               │ ?                      │   <span style=\"color: #00af00; text-decoration-color: #00af00\">0</span> (unbuilt) │\n",
       "├─────────────────────────────────┼────────────────────────┼───────────────┤\n",
       "│ out_layer (<span style=\"color: #0087ff; text-decoration-color: #0087ff\">Dense</span>)               │ ?                      │   <span style=\"color: #00af00; text-decoration-color: #00af00\">0</span> (unbuilt) │\n",
       "└─────────────────────────────────┴────────────────────────┴───────────────┘\n",
       "</pre>\n"
      ],
      "text/plain": [
       "┏━━━━━━━━━━━━━━━━━━━━━━━━━━━━━━━━━┳━━━━━━━━━━━━━━━━━━━━━━━━┳━━━━━━━━━━━━━━━┓\n",
       "┃\u001b[1m \u001b[0m\u001b[1mLayer (type)                   \u001b[0m\u001b[1m \u001b[0m┃\u001b[1m \u001b[0m\u001b[1mOutput Shape          \u001b[0m\u001b[1m \u001b[0m┃\u001b[1m \u001b[0m\u001b[1m      Param #\u001b[0m\u001b[1m \u001b[0m┃\n",
       "┡━━━━━━━━━━━━━━━━━━━━━━━━━━━━━━━━━╇━━━━━━━━━━━━━━━━━━━━━━━━╇━━━━━━━━━━━━━━━┩\n",
       "│ embedding (\u001b[38;5;33mEmbedding\u001b[0m)           │ ?                      │   \u001b[38;5;34m0\u001b[0m (unbuilt) │\n",
       "├─────────────────────────────────┼────────────────────────┼───────────────┤\n",
       "│ gru (\u001b[38;5;33mGRU\u001b[0m)                       │ ?                      │   \u001b[38;5;34m0\u001b[0m (unbuilt) │\n",
       "├─────────────────────────────────┼────────────────────────┼───────────────┤\n",
       "│ lstm (\u001b[38;5;33mLSTM\u001b[0m)                     │ ?                      │   \u001b[38;5;34m0\u001b[0m (unbuilt) │\n",
       "├─────────────────────────────────┼────────────────────────┼───────────────┤\n",
       "│ FC1 (\u001b[38;5;33mDense\u001b[0m)                     │ ?                      │   \u001b[38;5;34m0\u001b[0m (unbuilt) │\n",
       "├─────────────────────────────────┼────────────────────────┼───────────────┤\n",
       "│ activation (\u001b[38;5;33mActivation\u001b[0m)         │ ?                      │   \u001b[38;5;34m0\u001b[0m (unbuilt) │\n",
       "├─────────────────────────────────┼────────────────────────┼───────────────┤\n",
       "│ dropout (\u001b[38;5;33mDropout\u001b[0m)               │ ?                      │   \u001b[38;5;34m0\u001b[0m (unbuilt) │\n",
       "├─────────────────────────────────┼────────────────────────┼───────────────┤\n",
       "│ out_layer (\u001b[38;5;33mDense\u001b[0m)               │ ?                      │   \u001b[38;5;34m0\u001b[0m (unbuilt) │\n",
       "└─────────────────────────────────┴────────────────────────┴───────────────┘\n"
      ]
     },
     "metadata": {},
     "output_type": "display_data"
    },
    {
     "data": {
      "text/html": [
       "<pre style=\"white-space:pre;overflow-x:auto;line-height:normal;font-family:Menlo,'DejaVu Sans Mono',consolas,'Courier New',monospace\"><span style=\"font-weight: bold\"> Total params: </span><span style=\"color: #00af00; text-decoration-color: #00af00\">0</span> (0.00 B)\n",
       "</pre>\n"
      ],
      "text/plain": [
       "\u001b[1m Total params: \u001b[0m\u001b[38;5;34m0\u001b[0m (0.00 B)\n"
      ]
     },
     "metadata": {},
     "output_type": "display_data"
    },
    {
     "data": {
      "text/html": [
       "<pre style=\"white-space:pre;overflow-x:auto;line-height:normal;font-family:Menlo,'DejaVu Sans Mono',consolas,'Courier New',monospace\"><span style=\"font-weight: bold\"> Trainable params: </span><span style=\"color: #00af00; text-decoration-color: #00af00\">0</span> (0.00 B)\n",
       "</pre>\n"
      ],
      "text/plain": [
       "\u001b[1m Trainable params: \u001b[0m\u001b[38;5;34m0\u001b[0m (0.00 B)\n"
      ]
     },
     "metadata": {},
     "output_type": "display_data"
    },
    {
     "data": {
      "text/html": [
       "<pre style=\"white-space:pre;overflow-x:auto;line-height:normal;font-family:Menlo,'DejaVu Sans Mono',consolas,'Courier New',monospace\"><span style=\"font-weight: bold\"> Non-trainable params: </span><span style=\"color: #00af00; text-decoration-color: #00af00\">0</span> (0.00 B)\n",
       "</pre>\n"
      ],
      "text/plain": [
       "\u001b[1m Non-trainable params: \u001b[0m\u001b[38;5;34m0\u001b[0m (0.00 B)\n"
      ]
     },
     "metadata": {},
     "output_type": "display_data"
    }
   ],
   "source": [
    "# Display the model summary\n",
    "# عرض ملخص النموذج\n",
    "model.summary()"
   ]
  },
  {
   "cell_type": "code",
   "execution_count": 23,
   "id": "15c1d247",
   "metadata": {
    "execution": {
     "iopub.execute_input": "2024-11-23T16:59:24.337982Z",
     "iopub.status.busy": "2024-11-23T16:59:24.337721Z",
     "iopub.status.idle": "2024-11-23T16:59:24.341358Z",
     "shell.execute_reply": "2024-11-23T16:59:24.340576Z"
    },
    "papermill": {
     "duration": 0.012381,
     "end_time": "2024-11-23T16:59:24.342916",
     "exception": false,
     "start_time": "2024-11-23T16:59:24.330535",
     "status": "completed"
    },
    "tags": []
   },
   "outputs": [],
   "source": [
    "# Using early stopping to prevent overfitting (if validation loss does not decrease)\n",
    "# استخدام الـ Early Stopping لمنع الإفراط في التكيف (إذا لم يقلل الخسارة على التحقق)\n",
    "early_stopping = EarlyStopping(monitor='val_loss', min_delta=0.0001, patience=3)"
   ]
  },
  {
   "cell_type": "code",
   "execution_count": 24,
   "id": "6acb7a06",
   "metadata": {
    "execution": {
     "iopub.execute_input": "2024-11-23T16:59:24.356274Z",
     "iopub.status.busy": "2024-11-23T16:59:24.356007Z",
     "iopub.status.idle": "2024-11-23T17:00:02.369765Z",
     "shell.execute_reply": "2024-11-23T17:00:02.368713Z"
    },
    "papermill": {
     "duration": 38.022594,
     "end_time": "2024-11-23T17:00:02.371885",
     "exception": false,
     "start_time": "2024-11-23T16:59:24.349291",
     "status": "completed"
    },
    "tags": []
   },
   "outputs": [
    {
     "name": "stdout",
     "output_type": "stream",
     "text": [
      "Epoch 1/50\n",
      "\u001b[1m30/30\u001b[0m \u001b[32m━━━━━━━━━━━━━━━━━━━━\u001b[0m\u001b[37m\u001b[0m \u001b[1m14s\u001b[0m 277ms/step - accuracy: 0.8703 - loss: 0.4790 - val_accuracy: 0.8618 - val_loss: 0.4016\n",
      "Epoch 2/50\n",
      "\u001b[1m30/30\u001b[0m \u001b[32m━━━━━━━━━━━━━━━━━━━━\u001b[0m\u001b[37m\u001b[0m \u001b[1m8s\u001b[0m 267ms/step - accuracy: 0.8746 - loss: 0.3814 - val_accuracy: 0.8618 - val_loss: 0.4018\n",
      "Epoch 3/50\n",
      "\u001b[1m30/30\u001b[0m \u001b[32m━━━━━━━━━━━━━━━━━━━━\u001b[0m\u001b[37m\u001b[0m \u001b[1m8s\u001b[0m 267ms/step - accuracy: 0.8655 - loss: 0.3977 - val_accuracy: 0.8618 - val_loss: 0.4017\n",
      "Epoch 4/50\n",
      "\u001b[1m30/30\u001b[0m \u001b[32m━━━━━━━━━━━━━━━━━━━━\u001b[0m\u001b[37m\u001b[0m \u001b[1m8s\u001b[0m 267ms/step - accuracy: 0.8617 - loss: 0.4057 - val_accuracy: 0.8618 - val_loss: 0.4023\n"
     ]
    },
    {
     "data": {
      "text/plain": [
       "<keras.src.callbacks.history.History at 0x78d976e445b0>"
      ]
     },
     "execution_count": 24,
     "metadata": {},
     "output_type": "execute_result"
    }
   ],
   "source": [
    "# Train the model with more epochs\n",
    "# تدريب النموذج مع عدد أكبر من العصور\n",
    "model.fit(X_train_tfidf, Y_train, batch_size=128, epochs=50,\n",
    "          validation_split=0.2, callbacks=[early_stopping])"
   ]
  },
  {
   "cell_type": "code",
   "execution_count": 25,
   "id": "8a70c9f9",
   "metadata": {
    "execution": {
     "iopub.execute_input": "2024-11-23T17:00:02.398794Z",
     "iopub.status.busy": "2024-11-23T17:00:02.398509Z",
     "iopub.status.idle": "2024-11-23T17:00:04.736363Z",
     "shell.execute_reply": "2024-11-23T17:00:04.735534Z"
    },
    "papermill": {
     "duration": 2.353454,
     "end_time": "2024-11-23T17:00:04.738135",
     "exception": false,
     "start_time": "2024-11-23T17:00:02.384681",
     "status": "completed"
    },
    "tags": []
   },
   "outputs": [
    {
     "name": "stdout",
     "output_type": "stream",
     "text": [
      "\u001b[1m27/27\u001b[0m \u001b[32m━━━━━━━━━━━━━━━━━━━━\u001b[0m\u001b[37m\u001b[0m \u001b[1m2s\u001b[0m 83ms/step - accuracy: 0.8777 - loss: 0.3716\n"
     ]
    }
   ],
   "source": [
    "# Evaluate the model on the test set\n",
    "# تقييم النموذج على مجموعة الاختبار\n",
    "score = model.evaluate(X_test_tfidf, Y_test)"
   ]
  },
  {
   "cell_type": "code",
   "execution_count": 26,
   "id": "035e6288",
   "metadata": {
    "execution": {
     "iopub.execute_input": "2024-11-23T17:00:04.766554Z",
     "iopub.status.busy": "2024-11-23T17:00:04.766287Z",
     "iopub.status.idle": "2024-11-23T17:00:04.770737Z",
     "shell.execute_reply": "2024-11-23T17:00:04.769780Z"
    },
    "papermill": {
     "duration": 0.020313,
     "end_time": "2024-11-23T17:00:04.772419",
     "exception": false,
     "start_time": "2024-11-23T17:00:04.752106",
     "status": "completed"
    },
    "tags": []
   },
   "outputs": [
    {
     "name": "stdout",
     "output_type": "stream",
     "text": [
      "Test set\n",
      "  Loss: 0.399\n",
      "  Accuracy: 0.864\n"
     ]
    }
   ],
   "source": [
    "# Print loss and accuracy\n",
    "# طباعة الخسارة والدقة\n",
    "print('Test set\\n  Loss: {:0.3f}\\n  Accuracy: {:0.3f}'.format(score[0], score[1]))"
   ]
  },
  {
   "cell_type": "code",
   "execution_count": 27,
   "id": "222f5f85",
   "metadata": {
    "execution": {
     "iopub.execute_input": "2024-11-23T17:00:04.800656Z",
     "iopub.status.busy": "2024-11-23T17:00:04.800161Z",
     "iopub.status.idle": "2024-11-23T17:00:07.332305Z",
     "shell.execute_reply": "2024-11-23T17:00:07.331470Z"
    },
    "papermill": {
     "duration": 2.547766,
     "end_time": "2024-11-23T17:00:07.333951",
     "exception": false,
     "start_time": "2024-11-23T17:00:04.786185",
     "status": "completed"
    },
    "tags": []
   },
   "outputs": [
    {
     "name": "stdout",
     "output_type": "stream",
     "text": [
      "\u001b[1m27/27\u001b[0m \u001b[32m━━━━━━━━━━━━━━━━━━━━\u001b[0m\u001b[37m\u001b[0m \u001b[1m2s\u001b[0m 85ms/step\n"
     ]
    }
   ],
   "source": [
    "# Predict the labels for the test set\n",
    "# التنبؤ بالتصنيفات لمجموعة الاختبار\n",
    "Y_pred = model.predict(X_test_tfidf)"
   ]
  },
  {
   "cell_type": "code",
   "execution_count": 28,
   "id": "d47fbc25",
   "metadata": {
    "execution": {
     "iopub.execute_input": "2024-11-23T17:00:07.364774Z",
     "iopub.status.busy": "2024-11-23T17:00:07.364488Z",
     "iopub.status.idle": "2024-11-23T17:00:07.368473Z",
     "shell.execute_reply": "2024-11-23T17:00:07.367572Z"
    },
    "papermill": {
     "duration": 0.02148,
     "end_time": "2024-11-23T17:00:07.370487",
     "exception": false,
     "start_time": "2024-11-23T17:00:07.349007",
     "status": "completed"
    },
    "tags": []
   },
   "outputs": [],
   "source": [
    "# Convert predictions to binary (0 or 1)\n",
    "# تحويل التنبؤات إلى ثنائي (0 أو 1)\n",
    "Y_pred = (Y_pred > 0.5)"
   ]
  },
  {
   "cell_type": "code",
   "execution_count": 29,
   "id": "66f667ec",
   "metadata": {
    "execution": {
     "iopub.execute_input": "2024-11-23T17:00:07.401545Z",
     "iopub.status.busy": "2024-11-23T17:00:07.401305Z",
     "iopub.status.idle": "2024-11-23T17:00:07.415777Z",
     "shell.execute_reply": "2024-11-23T17:00:07.414900Z"
    },
    "papermill": {
     "duration": 0.032924,
     "end_time": "2024-11-23T17:00:07.417614",
     "exception": false,
     "start_time": "2024-11-23T17:00:07.384690",
     "status": "completed"
    },
    "tags": []
   },
   "outputs": [
    {
     "name": "stdout",
     "output_type": "stream",
     "text": [
      "              precision    recall  f1-score   support\n",
      "\n",
      "           0       0.86      1.00      0.93       722\n",
      "           1       0.00      0.00      0.00       114\n",
      "\n",
      "    accuracy                           0.86       836\n",
      "   macro avg       0.43      0.50      0.46       836\n",
      "weighted avg       0.75      0.86      0.80       836\n",
      "\n"
     ]
    },
    {
     "name": "stderr",
     "output_type": "stream",
     "text": [
      "/opt/conda/lib/python3.10/site-packages/sklearn/metrics/_classification.py:1344: UndefinedMetricWarning: Precision and F-score are ill-defined and being set to 0.0 in labels with no predicted samples. Use `zero_division` parameter to control this behavior.\n",
      "  _warn_prf(average, modifier, msg_start, len(result))\n",
      "/opt/conda/lib/python3.10/site-packages/sklearn/metrics/_classification.py:1344: UndefinedMetricWarning: Precision and F-score are ill-defined and being set to 0.0 in labels with no predicted samples. Use `zero_division` parameter to control this behavior.\n",
      "  _warn_prf(average, modifier, msg_start, len(result))\n",
      "/opt/conda/lib/python3.10/site-packages/sklearn/metrics/_classification.py:1344: UndefinedMetricWarning: Precision and F-score are ill-defined and being set to 0.0 in labels with no predicted samples. Use `zero_division` parameter to control this behavior.\n",
      "  _warn_prf(average, modifier, msg_start, len(result))\n"
     ]
    }
   ],
   "source": [
    "# Print classification report (precision, recall, F1-score)\n",
    "# طباعة تقرير التصنيف (الدقة، الاسترجاع، درجة F1)\n",
    "print(classification_report(Y_test, Y_pred))"
   ]
  },
  {
   "cell_type": "code",
   "execution_count": 30,
   "id": "c7b3eed4",
   "metadata": {
    "execution": {
     "iopub.execute_input": "2024-11-23T17:00:07.450699Z",
     "iopub.status.busy": "2024-11-23T17:00:07.449991Z",
     "iopub.status.idle": "2024-11-23T17:00:07.457091Z",
     "shell.execute_reply": "2024-11-23T17:00:07.456262Z"
    },
    "papermill": {
     "duration": 0.026399,
     "end_time": "2024-11-23T17:00:07.458848",
     "exception": false,
     "start_time": "2024-11-23T17:00:07.432449",
     "status": "completed"
    },
    "tags": []
   },
   "outputs": [
    {
     "name": "stdout",
     "output_type": "stream",
     "text": [
      "Confusion Matrix:\n",
      " [[722   0]\n",
      " [114   0]]\n"
     ]
    }
   ],
   "source": [
    "# Print confusion matrix\n",
    "# طباعة مصفوفة الارتباك\n",
    "conf_matrix = confusion_matrix(Y_test, Y_pred)\n",
    "print('Confusion Matrix:\\n', conf_matrix)"
   ]
  },
  {
   "cell_type": "code",
   "execution_count": 31,
   "id": "551de9ff",
   "metadata": {
    "execution": {
     "iopub.execute_input": "2024-11-23T17:00:07.491431Z",
     "iopub.status.busy": "2024-11-23T17:00:07.490660Z",
     "iopub.status.idle": "2024-11-23T17:00:07.971330Z",
     "shell.execute_reply": "2024-11-23T17:00:07.970445Z"
    },
    "papermill": {
     "duration": 0.498213,
     "end_time": "2024-11-23T17:00:07.973205",
     "exception": false,
     "start_time": "2024-11-23T17:00:07.474992",
     "status": "completed"
    },
    "tags": []
   },
   "outputs": [
    {
     "data": {
      "image/png": "[encoded data removed]",
      "text/plain": [
       "<Figure size 640x480 with 2 Axes>"
      ]
     },
     "metadata": {},
     "output_type": "display_data"
    }
   ],
   "source": [
    "# Visualizing the confusion matrix\n",
    "# تصور مصفوفة الارتباك\n",
    "sns.heatmap(conf_matrix, annot=True, fmt='d', cmap='Blues', xticklabels=['Ham', 'Spam'], yticklabels=['Ham', 'Spam'])\n",
    "plt.xlabel('Predicted')\n",
    "plt.ylabel('True')\n",
    "plt.title('Confusion Matrix')\n",
    "plt.show()"
   ]
  },
  {
   "cell_type": "code",
   "execution_count": 32,
   "id": "19b53f60",
   "metadata": {
    "execution": {
     "iopub.execute_input": "2024-11-23T17:00:08.004476Z",
     "iopub.status.busy": "2024-11-23T17:00:08.004204Z",
     "iopub.status.idle": "2024-11-23T17:00:08.217007Z",
     "shell.execute_reply": "2024-11-23T17:00:08.216165Z"
    },
    "papermill": {
     "duration": 0.230072,
     "end_time": "2024-11-23T17:00:08.218612",
     "exception": false,
     "start_time": "2024-11-23T17:00:07.988540",
     "status": "completed"
    },
    "tags": []
   },
   "outputs": [
    {
     "name": "stderr",
     "output_type": "stream",
     "text": [
      "/opt/conda/lib/python3.10/site-packages/sklearn/metrics/_classification.py:1344: UndefinedMetricWarning: Precision and F-score are ill-defined and being set to 0.0 in labels with no predicted samples. Use `zero_division` parameter to control this behavior.\n",
      "  _warn_prf(average, modifier, msg_start, len(result))\n",
      "/opt/conda/lib/python3.10/site-packages/sklearn/metrics/_classification.py:1344: UndefinedMetricWarning: Precision and F-score are ill-defined and being set to 0.0 in labels with no predicted samples. Use `zero_division` parameter to control this behavior.\n",
      "  _warn_prf(average, modifier, msg_start, len(result))\n",
      "/opt/conda/lib/python3.10/site-packages/sklearn/metrics/_classification.py:1344: UndefinedMetricWarning: Precision and F-score are ill-defined and being set to 0.0 in labels with no predicted samples. Use `zero_division` parameter to control this behavior.\n",
      "  _warn_prf(average, modifier, msg_start, len(result))\n"
     ]
    },
    {
     "data": {
      "image/png": "[encoded data removed]",
      "text/plain": [
       "<Figure size 800x600 with 2 Axes>"
      ]
     },
     "metadata": {},
     "output_type": "display_data"
    }
   ],
   "source": [
    "# Generate classification report as a dictionary\n",
    "# إنشاء تقرير التصنيف كقاموس\n",
    "report = classification_report(Y_test, Y_pred, target_names=['Ham', 'Spam'], output_dict=True)\n",
    "\n",
    "# Convert the classification report to a DataFrame\n",
    "# تحويل تقرير التصنيف إلى DataFrame\n",
    "report_df = pd.DataFrame(report).transpose()\n",
    "\n",
    "# Visualize the classification report as a heatmap\n",
    "# تصور تقرير التصنيف باستخدام Heatmap\n",
    "plt.figure(figsize=(8, 6))\n",
    "sns.heatmap(report_df.iloc[:-1, :-1], annot=True, cmap='YlGnBu', fmt='.2f')\n",
    "plt.title('Classification Report')  # عنوان التقرير\n",
    "plt.show()"
   ]
  },
  {
   "cell_type": "code",
   "execution_count": 33,
   "id": "082ff480",
   "metadata": {
    "execution": {
     "iopub.execute_input": "2024-11-23T17:00:08.251177Z",
     "iopub.status.busy": "2024-11-23T17:00:08.250861Z",
     "iopub.status.idle": "2024-11-23T17:00:08.509502Z",
     "shell.execute_reply": "2024-11-23T17:00:08.508689Z"
    },
    "papermill": {
     "duration": 0.27671,
     "end_time": "2024-11-23T17:00:08.511253",
     "exception": false,
     "start_time": "2024-11-23T17:00:08.234543",
     "status": "completed"
    },
    "tags": []
   },
   "outputs": [
    {
     "data": {
      "image/png": "[encoded data removed]",
      "text/plain": [
       "<Figure size 800x600 with 1 Axes>"
      ]
     },
     "metadata": {},
     "output_type": "display_data"
    }
   ],
   "source": [
    "# Calculate the ROC curve\n",
    "# حساب منحنى الـ ROC\n",
    "fpr, tpr, thresholds = roc_curve(Y_test, Y_pred)\n",
    "roc_auc = auc(fpr, tpr)\n",
    "\n",
    "# Plot the ROC curve\n",
    "# رسم منحنى الـ ROC\n",
    "plt.figure(figsize=(8, 6))\n",
    "plt.plot(fpr, tpr, color='blue', lw=2, label=f'ROC curve (area = {roc_auc:.2f})')  # عرض المساحة تحت المنحنى\n",
    "plt.plot([0, 1], [0, 1], color='red', linestyle='--', lw=2)  # الخط العشوائي\n",
    "plt.xlabel('False Positive Rate')  # معدل الإيجابيات الخاطئة\n",
    "plt.ylabel('True Positive Rate')   # معدل الإيجابيات الصحيحة\n",
    "plt.title('Receiver Operating Characteristic (ROC) Curve')  # عنوان الرسم\n",
    "plt.legend(loc='lower right')  # مكان وسوم الرسم\n",
    "plt.grid()  # إضافة شبكة\n",
    "plt.show()"
   ]
  },
  {
   "cell_type": "code",
   "execution_count": 34,
   "id": "c93557cf",
   "metadata": {
    "execution": {
     "iopub.execute_input": "2024-11-23T17:00:08.544535Z",
     "iopub.status.busy": "2024-11-23T17:00:08.544264Z",
     "iopub.status.idle": "2024-11-23T17:00:08.712091Z",
     "shell.execute_reply": "2024-11-23T17:00:08.711328Z"
    },
    "papermill": {
     "duration": 0.186315,
     "end_time": "2024-11-23T17:00:08.713670",
     "exception": false,
     "start_time": "2024-11-23T17:00:08.527355",
     "status": "completed"
    },
    "tags": []
   },
   "outputs": [
    {
     "data": {
      "image/png": "[encoded data removed]",
      "text/plain": [
       "<Figure size 800x600 with 1 Axes>"
      ]
     },
     "metadata": {},
     "output_type": "display_data"
    }
   ],
   "source": [
    "# Calculate precision and recall\n",
    "# حساب الدقة والاسترجاع\n",
    "precision, recall, thresholds = precision_recall_curve(Y_test, Y_pred)\n",
    "\n",
    "# Plot the Precision-Recall curve\n",
    "# رسم منحنى الدقة - الاسترجاع\n",
    "plt.figure(figsize=(8, 6))\n",
    "plt.plot(recall, precision, color='green', lw=2)\n",
    "plt.xlabel('Recall')  # الاسترجاع\n",
    "plt.ylabel('Precision')  # الدقة\n",
    "plt.title('Precision-Recall Curve')  # عنوان الرسم\n",
    "plt.grid()  # إضافة شبكة\n",
    "plt.show()"
   ]
  },
  {
   "cell_type": "code",
   "execution_count": 35,
   "id": "f94928c2",
   "metadata": {
    "execution": {
     "iopub.execute_input": "2024-11-23T17:00:08.747764Z",
     "iopub.status.busy": "2024-11-23T17:00:08.747506Z",
     "iopub.status.idle": "2024-11-23T17:00:09.093084Z",
     "shell.execute_reply": "2024-11-23T17:00:09.092187Z"
    },
    "papermill": {
     "duration": 0.364682,
     "end_time": "2024-11-23T17:00:09.094931",
     "exception": false,
     "start_time": "2024-11-23T17:00:08.730249",
     "status": "completed"
    },
    "tags": []
   },
   "outputs": [
    {
     "name": "stderr",
     "output_type": "stream",
     "text": [
      "/opt/conda/lib/python3.10/site-packages/seaborn/_oldcore.py:1119: FutureWarning: use_inf_as_na option is deprecated and will be removed in a future version. Convert inf values to NaN before operating instead.\n",
      "  with pd.option_context('mode.use_inf_as_na', True):\n",
      "/opt/conda/lib/python3.10/site-packages/seaborn/_stats/counting.py:137: RuntimeWarning: Converting input from bool to <class 'numpy.uint8'> for compatibility.\n",
      "  bin_edges = np.histogram_bin_edges(vals, bins, binrange, weight)\n",
      "/opt/conda/lib/python3.10/site-packages/seaborn/_oldcore.py:1075: FutureWarning: When grouping with a length-1 list-like, you will need to pass a length-1 tuple to get_group in a future version of pandas. Pass `(name,)` instead of `name` to silence this warning.\n",
      "  data_subset = grouped_data.get_group(pd_key)\n",
      "/opt/conda/lib/python3.10/site-packages/seaborn/_stats/counting.py:176: RuntimeWarning: Converting input from bool to <class 'numpy.uint8'> for compatibility.\n",
      "  hist, edges = np.histogram(vals, **bin_kws, weights=weights, density=density)\n"
     ]
    },
    {
     "data": {
      "text/plain": [
       "Text(0, 0.5, 'Frequency')"
      ]
     },
     "execution_count": 35,
     "metadata": {},
     "output_type": "execute_result"
    },
    {
     "data": {
      "image/png": "[encoded data removed]",
      "text/plain": [
       "<Figure size 800x600 with 1 Axes>"
      ]
     },
     "metadata": {},
     "output_type": "display_data"
    }
   ],
   "source": [
    "# Visualize the distribution of prediction probabilities\n",
    "# تصور توزيع احتمالات التنبؤ\n",
    "\n",
    "plt.figure(figsize=(8, 6))\n",
    "\n",
    "# Ensure Y_pred is probabilities; otherwise, use model.predict(X_test) instead of Y_pred\n",
    "# تأكد من أن Y_pred هي احتمالات؛ إذا لم تكن كذلك، استخدم model.predict(X_test) بدلاً من Y_pred\n",
    "sns.histplot(Y_pred, bins=20, color='purple', kde=False)  # kde=False to disable Kernel Density Estimation\n",
    "\n",
    "# Add labels and title to the plot\n",
    "# إضافة التسميات والعنوان إلى الرسم\n",
    "plt.title('Distribution of Predicted Probabilities')  # عنوان الرسم\n",
    "plt.xlabel('Predicted Probability')  # احتمالية التنبؤ\n",
    "plt.ylabel('Frequency')  # التكرار"
   ]
  }
 ],
 "metadata": {
  "kaggle": {
   "accelerator": "none",
   "dataSources": [
    {
     "datasetId": 483,
     "sourceId": 982,
     "sourceType": "datasetVersion"
    }
   ],
   "dockerImageVersionId": 30786,
   "isGpuEnabled": false,
   "isInternetEnabled": true,
   "language": "python",
   "sourceType": "notebook"
  },
  "kernelspec": {
   "display_name": "Python 3",
   "language": "python",
   "name": "python3"
  },
  "language_info": {
   "codemirror_mode": {
    "name": "ipython",
    "version": 3
   },
   "file_extension": ".py",
   "mimetype": "text/x-python",
   "name": "python",
   "nbconvert_exporter": "python",
   "pygments_lexer": "ipython3",
   "version": "3.10.14"
  },
  "papermill": {
   "default_parameters": {},
   "duration": 71.542823,
   "end_time": "2024-11-23T17:00:10.935915",
   "environment_variables": {},
   "exception": null,
   "input_path": "__notebook__.ipynb",
   "output_path": "__notebook__.ipynb",
   "parameters": {},
   "start_time": "2024-11-23T16:58:59.393092",
   "version": "2.6.0"
  }
 },
 "nbformat": 4,
 "nbformat_minor": 5
}
